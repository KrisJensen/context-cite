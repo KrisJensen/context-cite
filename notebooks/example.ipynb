{
 "cells": [
  {
   "cell_type": "markdown",
   "id": "cbe32b5a",
   "metadata": {},
   "source": [
    "# Quickstart example for `ContextCite`"
   ]
  },
  {
   "cell_type": "markdown",
   "id": "5b607a04",
   "metadata": {},
   "source": [
    "In this notebook, we'll overview the ContextCite API by going through a simple example."
   ]
  },
  {
   "cell_type": "markdown",
   "id": "46eeb0cc",
   "metadata": {},
   "source": [
    "You can also open the same notebook in [Google Colab](TODO)!"
   ]
  },
  {
   "cell_type": "code",
   "execution_count": 1,
   "id": "6fad41b3-3bcc-45cd-a1d3-2b382071360d",
   "metadata": {},
   "outputs": [
    {
     "name": "stderr",
     "output_type": "stream",
     "text": [
      "[nltk_data] Downloading package punkt to\n",
      "[nltk_data]     /mnt/xfs/home/krisgrg/nltk_data...\n",
      "[nltk_data]   Package punkt is already up-to-date!\n"
     ]
    }
   ],
   "source": [
    "from context_cite import ContextCiter"
   ]
  },
  {
   "cell_type": "markdown",
   "id": "82a9244a",
   "metadata": {},
   "source": [
    "We'll use a tinyllama chat model for this example."
   ]
  },
  {
   "cell_type": "code",
   "execution_count": 2,
   "id": "e3665785-786e-4d6f-a85d-afecff1eca5e",
   "metadata": {},
   "outputs": [],
   "source": [
    "model_name_or_path = \"TinyLlama/TinyLlama-1.1B-Chat-v1.0\"\n",
    "\n",
    "context = \"\"\"\n",
    "Attention Is All You Need\n",
    "\n",
    "Abstract\n",
    "The dominant sequence transduction models are based on complex recurrent or convolutional neural networks that include an encoder and a decoder. The best performing models also connect the encoder and decoder through an attention mechanism. We propose a new simple network architecture, the Transformer, based solely on attention mechanisms, dispensing with recurrence and convolutions entirely. Experiments on two machine translation tasks show these models to be superior in quality while being more parallelizable and requiring significantly less time to train. Our model achieves 28.4 BLEU on the WMT 2014 English-to-German translation task, improving over the existing best results, including ensembles, by over 2 BLEU. On the WMT 2014 English-to-French translation task, our model establishes a new single-model state-of-the-art BLEU score of 41.8 after training for 3.5 days on eight GPUs, a small fraction of the training costs of the best models from the literature. We show that the Transformer generalizes well to other tasks by applying it successfully to English constituency parsing both with large and limited training data.\n",
    "1 Introduction\n",
    "Recurrent neural networks, long short-term memory [13] and gated recurrent [7] neural networks in particular, have been firmly established as state of the art approaches in sequence modeling and transduction problems such as language modeling and machine translation [35, 2, 5]. Numerous efforts have since continued to push the boundaries of recurrent language models and encoder-decoder architectures [38, 24, 15].\n",
    "Recurrent models typically factor computation along the symbol positions of the input and output sequences. Aligning the positions to steps in computation time, they generate a sequence of hidden states ht, as a function of the previous hidden state ht-1 and the input for position t. This inherently sequential nature precludes parallelization within training examples, which becomes critical at longer sequence lengths, as memory constraints limit batching across examples. Recent work has achieved significant improvements in computational efficiency through factorization tricks [21] and conditional computation [32], while also improving model performance in case of the latter. The fundamental constraint of sequential computation, however, remains.\n",
    "Attention mechanisms have become an integral part of compelling sequence modeling and transduction models in various tasks, allowing modeling of dependencies without regard to their distance in the input or output sequences [2, 19]. In all but a few cases [27], however, such attention mechanisms are used in conjunction with a recurrent network.\n",
    "In this work we propose the Transformer, a model architecture eschewing recurrence and instead relying entirely on an attention mechanism to draw global dependencies between input and output. The Transformer allows for significantly more parallelization and can reach a new state of the art in translation quality after being trained for as little as twelve hours on eight P100 GPUs.\n",
    "\"\"\"\n",
    "query = \"What type of GPUs did the authors use in this paper?\""
   ]
  },
  {
   "cell_type": "markdown",
   "id": "f6b21a01",
   "metadata": {},
   "source": [
    "### The `ContextCiter` class"
   ]
  },
  {
   "cell_type": "markdown",
   "id": "dfe847b5",
   "metadata": {},
   "source": [
    "We can directly instantiate the `ContextCiter` class with a huggingface-style `pretrained_model_name_or_path`, together with a `context`, and a `query` (passed in as strings)."
   ]
  },
  {
   "cell_type": "code",
   "execution_count": 3,
   "id": "e388e300",
   "metadata": {},
   "outputs": [],
   "source": [
    "cc = ContextCiter.from_pretrained(model_name_or_path, context, query)"
   ]
  },
  {
   "cell_type": "markdown",
   "id": "2c965106",
   "metadata": {},
   "source": [
    "Alternatively, we can pass in a `model` and a `tokenizer`, which are instantiated from the `huggingface` library:"
   ]
  },
  {
   "cell_type": "code",
   "execution_count": 4,
   "id": "48d1d805",
   "metadata": {},
   "outputs": [],
   "source": [
    "from transformers import AutoTokenizer, AutoModelForCausalLM\n",
    "tokenizer = AutoTokenizer.from_pretrained(model_name_or_path)\n",
    "model = AutoModelForCausalLM.from_pretrained(model_name_or_path)\n",
    "model.to(\"cuda\")\n",
    "cc = ContextCiter(model, tokenizer, context, query)"
   ]
  },
  {
   "cell_type": "markdown",
   "id": "d0d861e2",
   "metadata": {},
   "source": [
    "The `response` property of the ContextCiter class contains the response generated by the model. It is lazily generated when you access it."
   ]
  },
  {
   "cell_type": "code",
   "execution_count": 5,
   "id": "d7e3f6dd",
   "metadata": {},
   "outputs": [
    {
     "data": {
      "text/plain": [
       "'The authors used eight P100 GPUs in their Transformer architecture for training on the WMT 2014 English-to-German translation task.'"
      ]
     },
     "execution_count": 5,
     "metadata": {},
     "output_type": "execute_result"
    }
   ],
   "source": [
    "cc.response"
   ]
  },
  {
   "cell_type": "markdown",
   "id": "2c11453a",
   "metadata": {},
   "source": [
    "Under the hood, the `ContextCiter` class applies a chat template to the\n",
    "tokenized context and query, and then uses the model to generate a response.\n",
    "That response is then stored in the `response` property."
   ]
  },
  {
   "cell_type": "markdown",
   "id": "7faa2559",
   "metadata": {},
   "source": [
    "### Attributing the response to sources within the context"
   ]
  },
  {
   "cell_type": "markdown",
   "id": "b4c6f5b5",
   "metadata": {},
   "source": [
    "To attribute the entire response and present the attributions in a human-readable format, we can use the `get_attributions` method, and pass in `as_dataframe=True`, as well as `top_k` to limit the number of sources to include in the attributions."
   ]
  },
  {
   "cell_type": "code",
   "execution_count": 6,
   "id": "846481c8",
   "metadata": {},
   "outputs": [
    {
     "data": {
      "application/vnd.jupyter.widget-view+json": {
       "model_id": "406a10269db6477abb24cb95da251cca",
       "version_major": 2,
       "version_minor": 0
      },
      "text/plain": [
       "  0%|          | 0/64 [00:00<?, ?it/s]"
      ]
     },
     "metadata": {},
     "output_type": "display_data"
    },
    {
     "data": {
      "text/html": [
       "<style type=\"text/css\">\n",
       "#T_4c704_row0_col0 {\n",
       "  background-color: rgb(80, 180, 80);\n",
       "}\n",
       "#T_4c704_row1_col0 {\n",
       "  background-color: rgb(95.76918388169662, 186.75822166358427, 95.76918388169662);\n",
       "}\n",
       "#T_4c704_row2_col0 {\n",
       "  background-color: rgb(187.89675641985144, 226.2414670370792, 187.89675641985144);\n",
       "}\n",
       "#T_4c704_row3_col0 {\n",
       "  background-color: rgb(230.99211147976843, 244.71090491990074, 230.99211147976843);\n",
       "}\n",
       "#T_4c704_row4_col0 {\n",
       "  background-color: rgb(235.70675128681214, 246.7314648372052, 235.70675128681214);\n",
       "}\n",
       "</style>\n",
       "<table id=\"T_4c704\">\n",
       "  <thead>\n",
       "    <tr>\n",
       "      <th class=\"blank level0\" >&nbsp;</th>\n",
       "      <th id=\"T_4c704_level0_col0\" class=\"col_heading level0 col0\" >Score</th>\n",
       "      <th id=\"T_4c704_level0_col1\" class=\"col_heading level0 col1\" >Source</th>\n",
       "    </tr>\n",
       "  </thead>\n",
       "  <tbody>\n",
       "    <tr>\n",
       "      <th id=\"T_4c704_level0_row0\" class=\"row_heading level0 row0\" >0</th>\n",
       "      <td id=\"T_4c704_row0_col0\" class=\"data row0 col0\" >13.837</td>\n",
       "      <td id=\"T_4c704_row0_col1\" class=\"data row0 col1\" >The Transformer allows for significantly more parallelization and can reach a new state of the art in translation quality after being trained for as little as twelve hours on eight P100 GPUs.</td>\n",
       "    </tr>\n",
       "    <tr>\n",
       "      <th id=\"T_4c704_level0_row1\" class=\"row_heading level0 row1\" >1</th>\n",
       "      <td id=\"T_4c704_row1_col0\" class=\"data row1 col0\" >12.590</td>\n",
       "      <td id=\"T_4c704_row1_col1\" class=\"data row1 col1\" >Our model achieves 28.4 BLEU on the WMT 2014 English-to-German translation task, improving over the existing best results, including ensembles, by over 2 BLEU.</td>\n",
       "    </tr>\n",
       "    <tr>\n",
       "      <th id=\"T_4c704_level0_row2\" class=\"row_heading level0 row2\" >2</th>\n",
       "      <td id=\"T_4c704_row2_col0\" class=\"data row2 col0\" >5.306</td>\n",
       "      <td id=\"T_4c704_row2_col1\" class=\"data row2 col1\" >On the WMT 2014 English-to-French translation task, our model establishes a new single-model state-of-the-art BLEU score of 41.8 after training for 3.5 days on eight GPUs, a small fraction of the training costs of the best models from the literature.</td>\n",
       "    </tr>\n",
       "    <tr>\n",
       "      <th id=\"T_4c704_level0_row3\" class=\"row_heading level0 row3\" >3</th>\n",
       "      <td id=\"T_4c704_row3_col0\" class=\"data row3 col0\" >1.898</td>\n",
       "      <td id=\"T_4c704_row3_col1\" class=\"data row3 col1\" >We propose a new simple network architecture, the Transformer, based solely on attention mechanisms, dispensing with recurrence and convolutions entirely.</td>\n",
       "    </tr>\n",
       "    <tr>\n",
       "      <th id=\"T_4c704_level0_row4\" class=\"row_heading level0 row4\" >4</th>\n",
       "      <td id=\"T_4c704_row4_col0\" class=\"data row4 col0\" >1.525</td>\n",
       "      <td id=\"T_4c704_row4_col1\" class=\"data row4 col1\" >In this work we propose the Transformer, a model architecture eschewing recurrence and instead relying entirely on an attention mechanism to draw global dependencies between input and output.</td>\n",
       "    </tr>\n",
       "  </tbody>\n",
       "</table>\n"
      ],
      "text/plain": [
       "<pandas.io.formats.style.Styler at 0x7fac68318460>"
      ]
     },
     "execution_count": 6,
     "metadata": {},
     "output_type": "execute_result"
    }
   ],
   "source": [
    "results = cc.get_attributions(as_dataframe=True, top_k=5)\n",
    "results"
   ]
  },
  {
   "cell_type": "markdown",
   "id": "33efa81a",
   "metadata": {},
   "source": [
    "`results` is a pandas styler object; to access the underlying dataframe:"
   ]
  },
  {
   "cell_type": "code",
   "execution_count": 7,
   "id": "ced5e02e",
   "metadata": {},
   "outputs": [
    {
     "data": {
      "text/html": [
       "<div>\n",
       "<style scoped>\n",
       "    .dataframe tbody tr th:only-of-type {\n",
       "        vertical-align: middle;\n",
       "    }\n",
       "\n",
       "    .dataframe tbody tr th {\n",
       "        vertical-align: top;\n",
       "    }\n",
       "\n",
       "    .dataframe thead th {\n",
       "        text-align: right;\n",
       "    }\n",
       "</style>\n",
       "<table border=\"1\" class=\"dataframe\">\n",
       "  <thead>\n",
       "    <tr style=\"text-align: right;\">\n",
       "      <th></th>\n",
       "      <th>Score</th>\n",
       "      <th>Source</th>\n",
       "    </tr>\n",
       "  </thead>\n",
       "  <tbody>\n",
       "    <tr>\n",
       "      <th>0</th>\n",
       "      <td>13.836627</td>\n",
       "      <td>The Transformer allows for significantly more ...</td>\n",
       "    </tr>\n",
       "    <tr>\n",
       "      <th>1</th>\n",
       "      <td>12.589814</td>\n",
       "      <td>Our model achieves 28.4 BLEU on the WMT 2014 E...</td>\n",
       "    </tr>\n",
       "    <tr>\n",
       "      <th>2</th>\n",
       "      <td>5.305615</td>\n",
       "      <td>On the WMT 2014 English-to-French translation ...</td>\n",
       "    </tr>\n",
       "    <tr>\n",
       "      <th>3</th>\n",
       "      <td>1.898218</td>\n",
       "      <td>We propose a new simple network architecture, ...</td>\n",
       "    </tr>\n",
       "    <tr>\n",
       "      <th>4</th>\n",
       "      <td>1.525449</td>\n",
       "      <td>In this work we propose the Transformer, a mod...</td>\n",
       "    </tr>\n",
       "  </tbody>\n",
       "</table>\n",
       "</div>"
      ],
      "text/plain": [
       "       Score                                             Source\n",
       "0  13.836627  The Transformer allows for significantly more ...\n",
       "1  12.589814  Our model achieves 28.4 BLEU on the WMT 2014 E...\n",
       "2   5.305615  On the WMT 2014 English-to-French translation ...\n",
       "3   1.898218  We propose a new simple network architecture, ...\n",
       "4   1.525449  In this work we propose the Transformer, a mod..."
      ]
     },
     "execution_count": 7,
     "metadata": {},
     "output_type": "execute_result"
    }
   ],
   "source": [
    "results.data"
   ]
  },
  {
   "cell_type": "markdown",
   "id": "464089b9",
   "metadata": {},
   "source": [
    "Alternatively, `.get_attributions()` can return the attribution scores as a `numpy` array, where the `i`th entry corresponds to the attribution score for the `i`th source in the context."
   ]
  },
  {
   "cell_type": "code",
   "execution_count": 8,
   "id": "0baec078",
   "metadata": {},
   "outputs": [
    {
     "data": {
      "text/plain": [
       "array([-0.        , -0.        ,  1.17331402, -0.        ,  1.89821833,\n",
       "       -0.45667885, 12.58981409,  5.30561472,  0.        ,  0.        ,\n",
       "       -0.        , -0.4833539 , -0.2234994 ,  0.53900443, -0.30795449,\n",
       "        0.        ,  1.06010566, -0.        ,  1.52544853, 13.83662735])"
      ]
     },
     "execution_count": 8,
     "metadata": {},
     "output_type": "execute_result"
    }
   ],
   "source": [
    "raw_results = cc.get_attributions()\n",
    "raw_results"
   ]
  },
  {
   "cell_type": "markdown",
   "id": "d1c866e0",
   "metadata": {},
   "source": [
    "### Attributing parts of the response"
   ]
  },
  {
   "cell_type": "markdown",
   "id": "0e4a4bef",
   "metadata": {},
   "source": [
    "`.get_attributions()` optionally takes in `start_idx` and `end_idx` to\n",
    "attribute only a part of the response."
   ]
  },
  {
   "cell_type": "markdown",
   "id": "37675ada",
   "metadata": {},
   "source": [
    "To make it easier to attribute parts of the response, the `ContextCiter` class\n",
    "has a utility property `response_with_indices` that contains the response annotated with\n",
    "the index of each word within the response. You can access this with\n",
    "`cc.response_with_indices`."
   ]
  },
  {
   "cell_type": "code",
   "execution_count": 9,
   "id": "11ebb0e6-2bad-436b-a085-7091d4458ae6",
   "metadata": {},
   "outputs": [
    {
     "name": "stdout",
     "output_type": "stream",
     "text": [
      "\u001b[36m[0]\u001b[0mThe \u001b[36m[4]\u001b[0mauthors \u001b[36m[12]\u001b[0mused \u001b[36m[17]\u001b[0meight \u001b[36m[23]\u001b[0mP100 \u001b[36m[28]\u001b[0mGPUs \u001b[36m[33]\u001b[0min \u001b[36m[36]\u001b[0mtheir \u001b[36m[42]\u001b[0mTransformer \u001b[36m[54]\u001b[0marchitecture \u001b[36m[67]\u001b[0mfor \u001b[36m[71]\u001b[0mtraining \u001b[36m[80]\u001b[0mon \u001b[36m[83]\u001b[0mthe \u001b[36m[87]\u001b[0mWMT \u001b[36m[91]\u001b[0m2014 \u001b[36m[96]\u001b[0mEnglish-to-German \u001b[36m[114]\u001b[0mtranslation \u001b[36m[126]\u001b[0mtask\u001b[36m[130]\u001b[0m.\n"
     ]
    }
   ],
   "source": [
    "print(cc.response_with_indices)"
   ]
  },
  {
   "cell_type": "markdown",
   "id": "9567eb68",
   "metadata": {},
   "source": [
    "For example, we can attribute a part of the response like so:"
   ]
  },
  {
   "cell_type": "code",
   "execution_count": 10,
   "id": "d16c77fd-a9d3-4fcb-a911-ac56d33a8b59",
   "metadata": {},
   "outputs": [
    {
     "name": "stdout",
     "output_type": "stream",
     "text": [
      "Response to attribute: \"eight P100 GPUs \"\n"
     ]
    },
    {
     "data": {
      "text/html": [
       "<style type=\"text/css\">\n",
       "#T_7e4c9_row0_col0 {\n",
       "  background-color: rgb(80, 180, 80);\n",
       "}\n",
       "#T_7e4c9_row1_col0 {\n",
       "  background-color: rgb(221.78447037005816, 240.7647730157392, 221.78447037005816);\n",
       "}\n",
       "#T_7e4c9_row2_col0 {\n",
       "  background-color: rgb(250.84869148524055, 253.2208677793888, 250.84869148524055);\n",
       "}\n",
       "#T_7e4c9_row3_col0 {\n",
       "  background-color: rgb(251.1789775172137, 253.36241893594874, 251.1789775172137);\n",
       "}\n",
       "#T_7e4c9_row4_col0 {\n",
       "  background-color: rgb(254.28813579262277, 254.69491533969548, 254.28813579262277);\n",
       "}\n",
       "</style>\n",
       "<table id=\"T_7e4c9\">\n",
       "  <thead>\n",
       "    <tr>\n",
       "      <th class=\"blank level0\" >&nbsp;</th>\n",
       "      <th id=\"T_7e4c9_level0_col0\" class=\"col_heading level0 col0\" >Score</th>\n",
       "      <th id=\"T_7e4c9_level0_col1\" class=\"col_heading level0 col1\" >Source</th>\n",
       "    </tr>\n",
       "  </thead>\n",
       "  <tbody>\n",
       "    <tr>\n",
       "      <th id=\"T_7e4c9_level0_row0\" class=\"row_heading level0 row0\" >0</th>\n",
       "      <td id=\"T_7e4c9_row0_col0\" class=\"data row0 col0\" >12.770</td>\n",
       "      <td id=\"T_7e4c9_row0_col1\" class=\"data row0 col1\" >The Transformer allows for significantly more parallelization and can reach a new state of the art in translation quality after being trained for as little as twelve hours on eight P100 GPUs.</td>\n",
       "    </tr>\n",
       "    <tr>\n",
       "      <th id=\"T_7e4c9_level0_row1\" class=\"row_heading level0 row1\" >1</th>\n",
       "      <td id=\"T_7e4c9_row1_col0\" class=\"data row1 col0\" >2.424</td>\n",
       "      <td id=\"T_7e4c9_row1_col1\" class=\"data row1 col1\" >On the WMT 2014 English-to-French translation task, our model establishes a new single-model state-of-the-art BLEU score of 41.8 after training for 3.5 days on eight GPUs, a small fraction of the training costs of the best models from the literature.</td>\n",
       "    </tr>\n",
       "    <tr>\n",
       "      <th id=\"T_7e4c9_level0_row2\" class=\"row_heading level0 row2\" >2</th>\n",
       "      <td id=\"T_7e4c9_row2_col0\" class=\"data row2 col0\" >0.303</td>\n",
       "      <td id=\"T_7e4c9_row2_col1\" class=\"data row2 col1\" >Aligning the positions to steps in computation time, they generate a sequence of hidden states ht, as a function of the previous hidden state ht-1 and the input for position t. This inherently sequential nature precludes parallelization within training examples, which becomes critical at longer sequence lengths, as memory constraints limit batching across examples.</td>\n",
       "    </tr>\n",
       "    <tr>\n",
       "      <th id=\"T_7e4c9_level0_row3\" class=\"row_heading level0 row3\" >3</th>\n",
       "      <td id=\"T_7e4c9_row3_col0\" class=\"data row3 col0\" >0.279</td>\n",
       "      <td id=\"T_7e4c9_row3_col1\" class=\"data row3 col1\" >The fundamental constraint of sequential computation, however, remains.</td>\n",
       "    </tr>\n",
       "    <tr>\n",
       "      <th id=\"T_7e4c9_level0_row4\" class=\"row_heading level0 row4\" >4</th>\n",
       "      <td id=\"T_7e4c9_row4_col0\" class=\"data row4 col0\" >0.052</td>\n",
       "      <td id=\"T_7e4c9_row4_col1\" class=\"data row4 col1\" >Experiments on two machine translation tasks show these models to be superior in quality while being more parallelizable and requiring significantly less time to train.</td>\n",
       "    </tr>\n",
       "  </tbody>\n",
       "</table>\n"
      ],
      "text/plain": [
       "<pandas.io.formats.style.Styler at 0x7fac59a9d060>"
      ]
     },
     "execution_count": 10,
     "metadata": {},
     "output_type": "execute_result"
    }
   ],
   "source": [
    "start, end = 17, 33\n",
    "print(f\"Response to attribute: \\\"{cc.response[start:end]}\\\"\")\n",
    "cc.get_attributions(start_idx=start, end_idx=end, as_dataframe=True, top_k=5)"
   ]
  },
  {
   "cell_type": "code",
   "execution_count": 11,
   "id": "dbf8ed92",
   "metadata": {},
   "outputs": [
    {
     "name": "stdout",
     "output_type": "stream",
     "text": [
      "Response to attribute: \"the WMT 2014 English-to-German translation task\"\n"
     ]
    },
    {
     "data": {
      "text/html": [
       "<style type=\"text/css\">\n",
       "#T_4e5ba_row0_col0 {\n",
       "  background-color: rgb(80, 180, 80);\n",
       "}\n",
       "#T_4e5ba_row1_col0 {\n",
       "  background-color: rgb(245.92345799809237, 251.11005342775388, 245.92345799809237);\n",
       "}\n",
       "#T_4e5ba_row2_col0 {\n",
       "  background-color: rgb(251.74222664002144, 253.60381141715206, 251.74222664002144);\n",
       "}\n",
       "#T_4e5ba_row3_col0 {\n",
       "  background-color: rgb(254.44197698710556, 254.7608472801881, 254.44197698710556);\n",
       "}\n",
       "#T_4e5ba_row4_col0 {\n",
       "  background-color: rgb(254.83778194086057, 254.93047797465454, 254.83778194086057);\n",
       "}\n",
       "</style>\n",
       "<table id=\"T_4e5ba\">\n",
       "  <thead>\n",
       "    <tr>\n",
       "      <th class=\"blank level0\" >&nbsp;</th>\n",
       "      <th id=\"T_4e5ba_level0_col0\" class=\"col_heading level0 col0\" >Score</th>\n",
       "      <th id=\"T_4e5ba_level0_col1\" class=\"col_heading level0 col1\" >Source</th>\n",
       "    </tr>\n",
       "  </thead>\n",
       "  <tbody>\n",
       "    <tr>\n",
       "      <th id=\"T_4e5ba_level0_row0\" class=\"row_heading level0 row0\" >0</th>\n",
       "      <td id=\"T_4e5ba_row0_col0\" class=\"data row0 col0\" >12.400</td>\n",
       "      <td id=\"T_4e5ba_row0_col1\" class=\"data row0 col1\" >Our model achieves 28.4 BLEU on the WMT 2014 English-to-German translation task, improving over the existing best results, including ensembles, by over 2 BLEU.</td>\n",
       "    </tr>\n",
       "    <tr>\n",
       "      <th id=\"T_4e5ba_level0_row1\" class=\"row_heading level0 row1\" >1</th>\n",
       "      <td id=\"T_4e5ba_row1_col0\" class=\"data row1 col0\" >0.643</td>\n",
       "      <td id=\"T_4e5ba_row1_col1\" class=\"data row1 col1\" >On the WMT 2014 English-to-French translation task, our model establishes a new single-model state-of-the-art BLEU score of 41.8 after training for 3.5 days on eight GPUs, a small fraction of the training costs of the best models from the literature.</td>\n",
       "    </tr>\n",
       "    <tr>\n",
       "      <th id=\"T_4e5ba_level0_row2\" class=\"row_heading level0 row2\" >2</th>\n",
       "      <td id=\"T_4e5ba_row2_col0\" class=\"data row2 col0\" >0.231</td>\n",
       "      <td id=\"T_4e5ba_row2_col1\" class=\"data row2 col1\" >1 Introduction</td>\n",
       "    </tr>\n",
       "    <tr>\n",
       "      <th id=\"T_4e5ba_level0_row3\" class=\"row_heading level0 row3\" >3</th>\n",
       "      <td id=\"T_4e5ba_row3_col0\" class=\"data row3 col0\" >0.040</td>\n",
       "      <td id=\"T_4e5ba_row3_col1\" class=\"data row3 col1\" >The dominant sequence transduction models are based on complex recurrent or convolutional neural networks that include an encoder and a decoder.</td>\n",
       "    </tr>\n",
       "    <tr>\n",
       "      <th id=\"T_4e5ba_level0_row4\" class=\"row_heading level0 row4\" >4</th>\n",
       "      <td id=\"T_4e5ba_row4_col0\" class=\"data row4 col0\" >0.011</td>\n",
       "      <td id=\"T_4e5ba_row4_col1\" class=\"data row4 col1\" >Attention mechanisms have become an integral part of compelling sequence modeling and transduction models in various tasks, allowing modeling of dependencies without regard to their distance in the input or output sequences [2, 19].</td>\n",
       "    </tr>\n",
       "  </tbody>\n",
       "</table>\n"
      ],
      "text/plain": [
       "<pandas.io.formats.style.Styler at 0x7fac59a9d090>"
      ]
     },
     "execution_count": 11,
     "metadata": {},
     "output_type": "execute_result"
    }
   ],
   "source": [
    "start, end = 83, 130\n",
    "print(f\"Response to attribute: \\\"{cc.response[start:end]}\\\"\")\n",
    "cc.get_attributions(start_idx=start, end_idx=end, as_dataframe=True, top_k=5)"
   ]
  }
 ],
 "metadata": {
  "kernelspec": {
   "display_name": "Python 3 (ipykernel)",
   "language": "python",
   "name": "python3"
  },
  "language_info": {
   "codemirror_mode": {
    "name": "ipython",
    "version": 3
   },
   "file_extension": ".py",
   "mimetype": "text/x-python",
   "name": "python",
   "nbconvert_exporter": "python",
   "pygments_lexer": "ipython3",
   "version": "3.10.14"
  }
 },
 "nbformat": 4,
 "nbformat_minor": 5
}
