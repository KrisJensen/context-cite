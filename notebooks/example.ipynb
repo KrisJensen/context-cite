{
 "cells": [
  {
   "cell_type": "code",
   "execution_count": 93,
   "id": "6fad41b3-3bcc-45cd-a1d3-2b382071360d",
   "metadata": {},
   "outputs": [],
   "source": [
    "import pandas as pd\n",
    "from context_cite import ContextCiter"
   ]
  },
  {
   "cell_type": "markdown",
   "id": "82a9244a",
   "metadata": {},
   "source": [
    "We'll use a tinyllama chat model for this example."
   ]
  },
  {
   "cell_type": "code",
   "execution_count": 126,
   "id": "e3665785-786e-4d6f-a85d-afecff1eca5e",
   "metadata": {},
   "outputs": [],
   "source": [
    "model_name_or_path = \"TinyLlama/TinyLlama-1.1B-Chat-v1.0\"\n",
    "\n",
    "context = \"\"\"\n",
    "Attention Is All You Need\n",
    "\n",
    "Abstract\n",
    "The dominant sequence transduction models are based on complex recurrent or convolutional neural networks that include an encoder and a decoder. The best performing models also connect the encoder and decoder through an attention mechanism. We propose a new simple network architecture, the Transformer, based solely on attention mechanisms, dispensing with recurrence and convolutions entirely. Experiments on two machine translation tasks show these models to be superior in quality while being more parallelizable and requiring significantly less time to train. Our model achieves 28.4 BLEU on the WMT 2014 English-to-German translation task, improving over the existing best results, including ensembles, by over 2 BLEU. On the WMT 2014 English-to-French translation task, our model establishes a new single-model state-of-the-art BLEU score of 41.8 after training for 3.5 days on eight GPUs, a small fraction of the training costs of the best models from the literature. We show that the Transformer generalizes well to other tasks by applying it successfully to English constituency parsing both with large and limited training data.\n",
    "1 Introduction\n",
    "Recurrent neural networks, long short-term memory [13] and gated recurrent [7] neural networks in particular, have been firmly established as state of the art approaches in sequence modeling and transduction problems such as language modeling and machine translation [35, 2, 5]. Numerous efforts have since continued to push the boundaries of recurrent language models and encoder-decoder architectures [38, 24, 15].\n",
    "Recurrent models typically factor computation along the symbol positions of the input and output sequences. Aligning the positions to steps in computation time, they generate a sequence of hidden states ht, as a function of the previous hidden state ht-1 and the input for position t. This inherently sequential nature precludes parallelization within training examples, which becomes critical at longer sequence lengths, as memory constraints limit batching across examples. Recent work has achieved significant improvements in computational efficiency through factorization tricks [21] and conditional computation [32], while also improving model performance in case of the latter. The fundamental constraint of sequential computation, however, remains.\n",
    "Attention mechanisms have become an integral part of compelling sequence modeling and transduction models in various tasks, allowing modeling of dependencies without regard to their distance in the input or output sequences [2, 19]. In all but a few cases [27], however, such attention mechanisms are used in conjunction with a recurrent network.\n",
    "In this work we propose the Transformer, a model architecture eschewing recurrence and instead relying entirely on an attention mechanism to draw global dependencies between input and output. The Transformer allows for significantly more parallelization and can reach a new state of the art in translation quality after being trained for as little as twelve hours on eight P100 GPUs.\n",
    "\"\"\"\n",
    "query = \"What type of GPUs did the authors use in this paper?\""
   ]
  },
  {
   "cell_type": "markdown",
   "id": "f6b21a01",
   "metadata": {},
   "source": [
    "### The `ContextCiter` class"
   ]
  },
  {
   "cell_type": "markdown",
   "id": "dfe847b5",
   "metadata": {},
   "source": [
    "We can directly instantiate the `ContextCiter` class with a huggingface-style `pretrained_model_name_or_path`, together with a `context`, and a `query` (passed in as strings)."
   ]
  },
  {
   "cell_type": "code",
   "execution_count": 127,
   "id": "e388e300",
   "metadata": {},
   "outputs": [],
   "source": [
    "cc = ContextCiter.from_pretrained(model_name_or_path, context, query)"
   ]
  },
  {
   "cell_type": "markdown",
   "id": "2c965106",
   "metadata": {},
   "source": [
    "Alternatively, we can pass in a `model` and a `tokenizer`, which are instantiated from the `huggingface` library:"
   ]
  },
  {
   "cell_type": "code",
   "execution_count": 128,
   "id": "48d1d805",
   "metadata": {},
   "outputs": [],
   "source": [
    "from transformers import AutoTokenizer, AutoModelForCausalLM\n",
    "tokenizer = AutoTokenizer.from_pretrained(model_name_or_path)\n",
    "model = AutoModelForCausalLM.from_pretrained(model_name_or_path)\n",
    "model.to(\"cuda\")\n",
    "cc = ContextCiter(model, tokenizer, context, query)"
   ]
  },
  {
   "cell_type": "markdown",
   "id": "d0d861e2",
   "metadata": {},
   "source": [
    "The `response` property of the ContextCiter class contains the response generated by the model. It is lazily generated when you access it."
   ]
  },
  {
   "cell_type": "code",
   "execution_count": 129,
   "id": "d7e3f6dd",
   "metadata": {},
   "outputs": [
    {
     "data": {
      "text/plain": [
       "'The authors used eight P100 GPUs in their Transformer architecture for training on the WMT 2014 English-to-German translation task.'"
      ]
     },
     "execution_count": 129,
     "metadata": {},
     "output_type": "execute_result"
    }
   ],
   "source": [
    "cc.response"
   ]
  },
  {
   "cell_type": "markdown",
   "id": "2c11453a",
   "metadata": {},
   "source": [
    "Under the hood, the `ContextCiter` class applies a chat template to the\n",
    "tokenized context and query, and then uses the model to generate a response.\n",
    "That response is then stored in the `response` property."
   ]
  },
  {
   "cell_type": "markdown",
   "id": "7faa2559",
   "metadata": {},
   "source": [
    "### Attributing the response to sources within the context"
   ]
  },
  {
   "cell_type": "markdown",
   "id": "b4c6f5b5",
   "metadata": {},
   "source": [
    "To attribute the entire response and present the attributions in a human-readable format, we can use the `show_attributions` method."
   ]
  },
  {
   "cell_type": "code",
   "execution_count": 149,
   "id": "846481c8",
   "metadata": {},
   "outputs": [
    {
     "data": {
      "text/html": [
       "<style type=\"text/css\">\n",
       "#T_ec06b_row0_col0 {\n",
       "  background-color: rgb(80, 180, 80);\n",
       "}\n",
       "#T_ec06b_row1_col0 {\n",
       "  background-color: rgb(110.20883315350278, 192.9466427800726, 110.20883315350278);\n",
       "}\n",
       "#T_ec06b_row2_col0 {\n",
       "  background-color: rgb(199.65669033551046, 231.28143871521877, 199.65669033551046);\n",
       "}\n",
       "#T_ec06b_row3_col0 {\n",
       "  background-color: rgb(235.2693646193056, 246.54401340827383, 235.2693646193056);\n",
       "}\n",
       "#T_ec06b_row4_col0 {\n",
       "  background-color: rgb(237.32021986149647, 247.42295136921277, 237.32021986149647);\n",
       "}\n",
       "#T_ec06b_row5_col0 {\n",
       "  background-color: rgb(240.59995679445117, 248.82855291190765, 240.59995679445117);\n",
       "}\n",
       "#T_ec06b_row6_col0 {\n",
       "  background-color: rgb(251.86166919289474, 253.65500108266917, 251.86166919289474);\n",
       "}\n",
       "#T_ec06b_row7_col0, #T_ec06b_row8_col0, #T_ec06b_row9_col0, #T_ec06b_row10_col0, #T_ec06b_row11_col0, #T_ec06b_row12_col0, #T_ec06b_row13_col0, #T_ec06b_row14_col0, #T_ec06b_row15_col0 {\n",
       "  background-color: rgb(255, 255, 255);\n",
       "}\n",
       "#T_ec06b_row16_col0 {\n",
       "  background-color: rgb(256.06642896066734, 255.45704098314314, 256.06642896066734);\n",
       "}\n",
       "#T_ec06b_row17_col0 {\n",
       "  background-color: rgb(256.4173063304741, 255.60741699877462, 256.4173063304741);\n",
       "}\n",
       "#T_ec06b_row18_col0 {\n",
       "  background-color: rgb(256.8467730471391, 255.7914741630596, 256.8467730471391);\n",
       "}\n",
       "#T_ec06b_row19_col0 {\n",
       "  background-color: rgb(260.8766656790036, 257.51857100528724, 260.8766656790036);\n",
       "}\n",
       "</style>\n",
       "<table id=\"T_ec06b\">\n",
       "  <thead>\n",
       "    <tr>\n",
       "      <th class=\"blank level0\" >&nbsp;</th>\n",
       "      <th id=\"T_ec06b_level0_col0\" class=\"col_heading level0 col0\" >Score</th>\n",
       "      <th id=\"T_ec06b_level0_col1\" class=\"col_heading level0 col1\" >Source</th>\n",
       "    </tr>\n",
       "  </thead>\n",
       "  <tbody>\n",
       "    <tr>\n",
       "      <th id=\"T_ec06b_level0_row0\" class=\"row_heading level0 row0\" >0</th>\n",
       "      <td id=\"T_ec06b_row0_col0\" class=\"data row0 col0\" >14.102</td>\n",
       "      <td id=\"T_ec06b_row0_col1\" class=\"data row0 col1\" >The Transformer allows for significantly more parallelization and can reach a new state of the art in translation quality after being trained for as little as twelve hours on eight P100 GPUs.</td>\n",
       "    </tr>\n",
       "    <tr>\n",
       "      <th id=\"T_ec06b_level0_row1\" class=\"row_heading level0 row1\" >1</th>\n",
       "      <td id=\"T_ec06b_row1_col0\" class=\"data row1 col0\" >11.667</td>\n",
       "      <td id=\"T_ec06b_row1_col1\" class=\"data row1 col1\" >Our model achieves 28.4 BLEU on the WMT 2014 English-to-German translation task, improving over the existing best results, including ensembles, by over 2 BLEU.</td>\n",
       "    </tr>\n",
       "    <tr>\n",
       "      <th id=\"T_ec06b_level0_row2\" class=\"row_heading level0 row2\" >2</th>\n",
       "      <td id=\"T_ec06b_row2_col0\" class=\"data row2 col0\" >4.460</td>\n",
       "      <td id=\"T_ec06b_row2_col1\" class=\"data row2 col1\" >On the WMT 2014 English-to-French translation task, our model establishes a new single-model state-of-the-art BLEU score of 41.8 after training for 3.5 days on eight GPUs, a small fraction of the training costs of the best models from the literature.</td>\n",
       "    </tr>\n",
       "    <tr>\n",
       "      <th id=\"T_ec06b_level0_row3\" class=\"row_heading level0 row3\" >3</th>\n",
       "      <td id=\"T_ec06b_row3_col0\" class=\"data row3 col0\" >1.590</td>\n",
       "      <td id=\"T_ec06b_row3_col1\" class=\"data row3 col1\" >We propose a new simple network architecture, the Transformer, based solely on attention mechanisms, dispensing with recurrence and convolutions entirely.</td>\n",
       "    </tr>\n",
       "    <tr>\n",
       "      <th id=\"T_ec06b_level0_row4\" class=\"row_heading level0 row4\" >4</th>\n",
       "      <td id=\"T_ec06b_row4_col0\" class=\"data row4 col0\" >1.425</td>\n",
       "      <td id=\"T_ec06b_row4_col1\" class=\"data row4 col1\" >The dominant sequence transduction models are based on complex recurrent or convolutional neural networks that include an encoder and a decoder.</td>\n",
       "    </tr>\n",
       "    <tr>\n",
       "      <th id=\"T_ec06b_level0_row5\" class=\"row_heading level0 row5\" >5</th>\n",
       "      <td id=\"T_ec06b_row5_col0\" class=\"data row5 col0\" >1.160</td>\n",
       "      <td id=\"T_ec06b_row5_col1\" class=\"data row5 col1\" >In this work we propose the Transformer, a model architecture eschewing recurrence and instead relying entirely on an attention mechanism to draw global dependencies between input and output.</td>\n",
       "    </tr>\n",
       "    <tr>\n",
       "      <th id=\"T_ec06b_level0_row6\" class=\"row_heading level0 row6\" >6</th>\n",
       "      <td id=\"T_ec06b_row6_col0\" class=\"data row6 col0\" >0.253</td>\n",
       "      <td id=\"T_ec06b_row6_col1\" class=\"data row6 col1\" >Aligning the positions to steps in computation time, they generate a sequence of hidden states ht, as a function of the previous hidden state ht-1 and the input for position t. This inherently sequential nature precludes parallelization within training examples, which becomes critical at longer sequence lengths, as memory constraints limit batching across examples.</td>\n",
       "    </tr>\n",
       "    <tr>\n",
       "      <th id=\"T_ec06b_level0_row7\" class=\"row_heading level0 row7\" >7</th>\n",
       "      <td id=\"T_ec06b_row7_col0\" class=\"data row7 col0\" >-0.000</td>\n",
       "      <td id=\"T_ec06b_row7_col1\" class=\"data row7 col1\" >Recurrent neural networks, long short-term memory [13] and gated recurrent [7] neural networks in particular, have been firmly established as state of the art approaches in sequence modeling and transduction problems such as language modeling and machine translation [35, 2, 5].</td>\n",
       "    </tr>\n",
       "    <tr>\n",
       "      <th id=\"T_ec06b_level0_row8\" class=\"row_heading level0 row8\" >8</th>\n",
       "      <td id=\"T_ec06b_row8_col0\" class=\"data row8 col0\" >-0.000</td>\n",
       "      <td id=\"T_ec06b_row8_col1\" class=\"data row8 col1\" >We show that the Transformer generalizes well to other tasks by applying it successfully to English constituency parsing both with large and limited training data.</td>\n",
       "    </tr>\n",
       "    <tr>\n",
       "      <th id=\"T_ec06b_level0_row9\" class=\"row_heading level0 row9\" >9</th>\n",
       "      <td id=\"T_ec06b_row9_col0\" class=\"data row9 col0\" >0.000</td>\n",
       "      <td id=\"T_ec06b_row9_col1\" class=\"data row9 col1\" >1 Introduction</td>\n",
       "    </tr>\n",
       "    <tr>\n",
       "      <th id=\"T_ec06b_level0_row10\" class=\"row_heading level0 row10\" >10</th>\n",
       "      <td id=\"T_ec06b_row10_col0\" class=\"data row10 col0\" >-0.000</td>\n",
       "      <td id=\"T_ec06b_row10_col1\" class=\"data row10 col1\" >Numerous efforts have since continued to push the boundaries of recurrent language models and encoder-decoder architectures [38, 24, 15].</td>\n",
       "    </tr>\n",
       "    <tr>\n",
       "      <th id=\"T_ec06b_level0_row11\" class=\"row_heading level0 row11\" >11</th>\n",
       "      <td id=\"T_ec06b_row11_col0\" class=\"data row11 col0\" >-0.000</td>\n",
       "      <td id=\"T_ec06b_row11_col1\" class=\"data row11 col1\" >Recurrent models typically factor computation along the symbol positions of the input and output sequences.</td>\n",
       "    </tr>\n",
       "    <tr>\n",
       "      <th id=\"T_ec06b_level0_row12\" class=\"row_heading level0 row12\" >12</th>\n",
       "      <td id=\"T_ec06b_row12_col0\" class=\"data row12 col0\" >0.000</td>\n",
       "      <td id=\"T_ec06b_row12_col1\" class=\"data row12 col1\" >The fundamental constraint of sequential computation, however, remains.</td>\n",
       "    </tr>\n",
       "    <tr>\n",
       "      <th id=\"T_ec06b_level0_row13\" class=\"row_heading level0 row13\" >13</th>\n",
       "      <td id=\"T_ec06b_row13_col0\" class=\"data row13 col0\" >0.000</td>\n",
       "      <td id=\"T_ec06b_row13_col1\" class=\"data row13 col1\" >Attention mechanisms have become an integral part of compelling sequence modeling and transduction models in various tasks, allowing modeling of dependencies without regard to their distance in the input or output sequences [2, 19].</td>\n",
       "    </tr>\n",
       "    <tr>\n",
       "      <th id=\"T_ec06b_level0_row14\" class=\"row_heading level0 row14\" >14</th>\n",
       "      <td id=\"T_ec06b_row14_col0\" class=\"data row14 col0\" >-0.000</td>\n",
       "      <td id=\"T_ec06b_row14_col1\" class=\"data row14 col1\" >In all but a few cases [27], however, such attention mechanisms are used in conjunction with a recurrent network.</td>\n",
       "    </tr>\n",
       "    <tr>\n",
       "      <th id=\"T_ec06b_level0_row15\" class=\"row_heading level0 row15\" >15</th>\n",
       "      <td id=\"T_ec06b_row15_col0\" class=\"data row15 col0\" >0.000</td>\n",
       "      <td id=\"T_ec06b_row15_col1\" class=\"data row15 col1\" >Attention Is All You Need</td>\n",
       "    </tr>\n",
       "    <tr>\n",
       "      <th id=\"T_ec06b_level0_row16\" class=\"row_heading level0 row16\" >16</th>\n",
       "      <td id=\"T_ec06b_row16_col0\" class=\"data row16 col0\" >-0.086</td>\n",
       "      <td id=\"T_ec06b_row16_col1\" class=\"data row16 col1\" >The best performing models also connect the encoder and decoder through an attention mechanism.</td>\n",
       "    </tr>\n",
       "    <tr>\n",
       "      <th id=\"T_ec06b_level0_row17\" class=\"row_heading level0 row17\" >17</th>\n",
       "      <td id=\"T_ec06b_row17_col0\" class=\"data row17 col0\" >-0.114</td>\n",
       "      <td id=\"T_ec06b_row17_col1\" class=\"data row17 col1\" >Experiments on two machine translation tasks show these models to be superior in quality while being more parallelizable and requiring significantly less time to train.</td>\n",
       "    </tr>\n",
       "    <tr>\n",
       "      <th id=\"T_ec06b_level0_row18\" class=\"row_heading level0 row18\" >18</th>\n",
       "      <td id=\"T_ec06b_row18_col0\" class=\"data row18 col0\" >-0.149</td>\n",
       "      <td id=\"T_ec06b_row18_col1\" class=\"data row18 col1\" >Abstract</td>\n",
       "    </tr>\n",
       "    <tr>\n",
       "      <th id=\"T_ec06b_level0_row19\" class=\"row_heading level0 row19\" >19</th>\n",
       "      <td id=\"T_ec06b_row19_col0\" class=\"data row19 col0\" >-0.474</td>\n",
       "      <td id=\"T_ec06b_row19_col1\" class=\"data row19 col1\" >Recent work has achieved significant improvements in computational efficiency through factorization tricks [21] and conditional computation [32], while also improving model performance in case of the latter.</td>\n",
       "    </tr>\n",
       "  </tbody>\n",
       "</table>\n"
      ],
      "text/plain": [
       "<pandas.io.formats.style.Styler at 0x7f53bc1cf310>"
      ]
     },
     "execution_count": 149,
     "metadata": {},
     "output_type": "execute_result"
    }
   ],
   "source": [
    "results = cc.show_attributions()\n",
    "results"
   ]
  },
  {
   "cell_type": "markdown",
   "id": "33efa81a",
   "metadata": {},
   "source": [
    "`results` is a pandas styler object; to access the underlying dataframe, we can use `results.data`. For exmaple, here's how to access just the top-3 scoring sources from the context:"
   ]
  },
  {
   "cell_type": "code",
   "execution_count": 156,
   "id": "ced5e02e",
   "metadata": {},
   "outputs": [
    {
     "data": {
      "text/html": [
       "<div>\n",
       "<style scoped>\n",
       "    .dataframe tbody tr th:only-of-type {\n",
       "        vertical-align: middle;\n",
       "    }\n",
       "\n",
       "    .dataframe tbody tr th {\n",
       "        vertical-align: top;\n",
       "    }\n",
       "\n",
       "    .dataframe thead th {\n",
       "        text-align: right;\n",
       "    }\n",
       "</style>\n",
       "<table border=\"1\" class=\"dataframe\">\n",
       "  <thead>\n",
       "    <tr style=\"text-align: right;\">\n",
       "      <th></th>\n",
       "      <th>Score</th>\n",
       "      <th>Source</th>\n",
       "    </tr>\n",
       "  </thead>\n",
       "  <tbody>\n",
       "    <tr>\n",
       "      <th>0</th>\n",
       "      <td>14.101645</td>\n",
       "      <td>The Transformer allows for significantly more ...</td>\n",
       "    </tr>\n",
       "    <tr>\n",
       "      <th>1</th>\n",
       "      <td>11.667392</td>\n",
       "      <td>Our model achieves 28.4 BLEU on the WMT 2014 E...</td>\n",
       "    </tr>\n",
       "    <tr>\n",
       "      <th>2</th>\n",
       "      <td>4.459610</td>\n",
       "      <td>On the WMT 2014 English-to-French translation ...</td>\n",
       "    </tr>\n",
       "  </tbody>\n",
       "</table>\n",
       "</div>"
      ],
      "text/plain": [
       "       Score                                             Source\n",
       "0  14.101645  The Transformer allows for significantly more ...\n",
       "1  11.667392  Our model achieves 28.4 BLEU on the WMT 2014 E...\n",
       "2   4.459610  On the WMT 2014 English-to-French translation ..."
      ]
     },
     "execution_count": 156,
     "metadata": {},
     "output_type": "execute_result"
    }
   ],
   "source": [
    "pd.DataFrame(results.data).head(3)"
   ]
  },
  {
   "cell_type": "markdown",
   "id": "d1c866e0",
   "metadata": {},
   "source": [
    "### Attributing parts of the response"
   ]
  },
  {
   "cell_type": "markdown",
   "id": "0e4a4bef",
   "metadata": {},
   "source": [
    "`.show_attributions()` optionally takes in `start_idx` and `end_idx` to\n",
    "attribute only a part of the response."
   ]
  },
  {
   "cell_type": "markdown",
   "id": "37675ada",
   "metadata": {},
   "source": [
    "To make it easier to attribute parts of the response, the `ContextCiter` class\n",
    "has a utility property `response_with_indices` that contains the response annotated with\n",
    "the index of each word within the response. You can access this with\n",
    "`cc.response_with_indices`."
   ]
  },
  {
   "cell_type": "code",
   "execution_count": 157,
   "id": "11ebb0e6-2bad-436b-a085-7091d4458ae6",
   "metadata": {},
   "outputs": [
    {
     "name": "stdout",
     "output_type": "stream",
     "text": [
      "\u001b[36m[0]\u001b[0mThe \u001b[36m[3]\u001b[0mauthors \u001b[36m[11]\u001b[0mused \u001b[36m[16]\u001b[0meight \u001b[36m[22]\u001b[0mP100 \u001b[36m[27]\u001b[0mGPUs \u001b[36m[32]\u001b[0min \u001b[36m[35]\u001b[0mtheir \u001b[36m[41]\u001b[0mTransformer \u001b[36m[53]\u001b[0marchitecture \u001b[36m[66]\u001b[0mfor \u001b[36m[70]\u001b[0mtraining \u001b[36m[79]\u001b[0mon \u001b[36m[82]\u001b[0mthe \u001b[36m[86]\u001b[0mWMT \u001b[36m[90]\u001b[0m2014 \u001b[36m[95]\u001b[0mEnglish-to-German \u001b[36m[113]\u001b[0mtranslation \u001b[36m[125]\u001b[0mtask\u001b[36m[130]\u001b[0m.\n"
     ]
    }
   ],
   "source": [
    "print(cc.response_with_indices)"
   ]
  },
  {
   "cell_type": "markdown",
   "id": "9567eb68",
   "metadata": {},
   "source": [
    "For example, we can attribute a part of the response like so:"
   ]
  },
  {
   "cell_type": "code",
   "execution_count": 164,
   "id": "d16c77fd-a9d3-4fcb-a911-ac56d33a8b59",
   "metadata": {},
   "outputs": [
    {
     "name": "stdout",
     "output_type": "stream",
     "text": [
      "Response to attribute: \" eight P100 GPUs\"\n"
     ]
    },
    {
     "data": {
      "text/html": [
       "<style type=\"text/css\">\n",
       "#T_3d489_row0_col0 {\n",
       "  background-color: rgb(80, 180, 80);\n",
       "}\n",
       "#T_3d489_row1_col0 {\n",
       "  background-color: rgb(224.98187986696854, 242.13509137155793, 224.98187986696854);\n",
       "}\n",
       "#T_3d489_row2_col0 {\n",
       "  background-color: rgb(252.74615480330496, 254.03406634427355, 252.74615480330496);\n",
       "}\n",
       "#T_3d489_row3_col0 {\n",
       "  background-color: rgb(252.8975563216519, 254.0989527092794, 252.8975563216519);\n",
       "}\n",
       "#T_3d489_row4_col0 {\n",
       "  background-color: rgb(254.0329252004571, 254.58553937162446, 254.0329252004571);\n",
       "}\n",
       "#T_3d489_row5_col0 {\n",
       "  background-color: rgb(254.51163493916303, 254.79070068821272, 254.51163493916303);\n",
       "}\n",
       "#T_3d489_row6_col0 {\n",
       "  background-color: rgb(254.51190838883585, 254.79081788092964, 254.51190838883585);\n",
       "}\n",
       "#T_3d489_row7_col0 {\n",
       "  background-color: rgb(254.86467440052445, 254.9420033145105, 254.86467440052445);\n",
       "}\n",
       "#T_3d489_row8_col0, #T_3d489_row9_col0, #T_3d489_row10_col0, #T_3d489_row11_col0, #T_3d489_row12_col0, #T_3d489_row13_col0, #T_3d489_row14_col0 {\n",
       "  background-color: rgb(255, 255, 255);\n",
       "}\n",
       "#T_3d489_row15_col0 {\n",
       "  background-color: rgb(255.6365752217957, 255.27281795219815, 255.6365752217957);\n",
       "}\n",
       "#T_3d489_row16_col0 {\n",
       "  background-color: rgb(256.0340720173862, 255.44317372173697, 256.0340720173862);\n",
       "}\n",
       "#T_3d489_row17_col0 {\n",
       "  background-color: rgb(256.8933857499423, 255.81145103568957, 256.8933857499423);\n",
       "}\n",
       "#T_3d489_row18_col0 {\n",
       "  background-color: rgb(258.8918907552824, 256.66795318083535, 258.8918907552824);\n",
       "}\n",
       "#T_3d489_row19_col0 {\n",
       "  background-color: rgb(261.63258959936934, 257.84253839972973, 261.63258959936934);\n",
       "}\n",
       "</style>\n",
       "<table id=\"T_3d489\">\n",
       "  <thead>\n",
       "    <tr>\n",
       "      <th class=\"blank level0\" >&nbsp;</th>\n",
       "      <th id=\"T_3d489_level0_col0\" class=\"col_heading level0 col0\" >Score</th>\n",
       "      <th id=\"T_3d489_level0_col1\" class=\"col_heading level0 col1\" >Source</th>\n",
       "    </tr>\n",
       "  </thead>\n",
       "  <tbody>\n",
       "    <tr>\n",
       "      <th id=\"T_3d489_level0_row0\" class=\"row_heading level0 row0\" >0</th>\n",
       "      <td id=\"T_3d489_row0_col0\" class=\"data row0 col0\" >13.224</td>\n",
       "      <td id=\"T_3d489_row0_col1\" class=\"data row0 col1\" >The Transformer allows for significantly more parallelization and can reach a new state of the art in translation quality after being trained for as little as twelve hours on eight P100 GPUs.</td>\n",
       "    </tr>\n",
       "    <tr>\n",
       "      <th id=\"T_3d489_level0_row1\" class=\"row_heading level0 row1\" >1</th>\n",
       "      <td id=\"T_3d489_row1_col0\" class=\"data row1 col0\" >2.268</td>\n",
       "      <td id=\"T_3d489_row1_col1\" class=\"data row1 col1\" >On the WMT 2014 English-to-French translation task, our model establishes a new single-model state-of-the-art BLEU score of 41.8 after training for 3.5 days on eight GPUs, a small fraction of the training costs of the best models from the literature.</td>\n",
       "    </tr>\n",
       "    <tr>\n",
       "      <th id=\"T_3d489_level0_row2\" class=\"row_heading level0 row2\" >2</th>\n",
       "      <td id=\"T_3d489_row2_col0\" class=\"data row2 col0\" >0.170</td>\n",
       "      <td id=\"T_3d489_row2_col1\" class=\"data row2 col1\" >Aligning the positions to steps in computation time, they generate a sequence of hidden states ht, as a function of the previous hidden state ht-1 and the input for position t. This inherently sequential nature precludes parallelization within training examples, which becomes critical at longer sequence lengths, as memory constraints limit batching across examples.</td>\n",
       "    </tr>\n",
       "    <tr>\n",
       "      <th id=\"T_3d489_level0_row3\" class=\"row_heading level0 row3\" >3</th>\n",
       "      <td id=\"T_3d489_row3_col0\" class=\"data row3 col0\" >0.159</td>\n",
       "      <td id=\"T_3d489_row3_col1\" class=\"data row3 col1\" >Experiments on two machine translation tasks show these models to be superior in quality while being more parallelizable and requiring significantly less time to train.</td>\n",
       "    </tr>\n",
       "    <tr>\n",
       "      <th id=\"T_3d489_level0_row4\" class=\"row_heading level0 row4\" >4</th>\n",
       "      <td id=\"T_3d489_row4_col0\" class=\"data row4 col0\" >0.073</td>\n",
       "      <td id=\"T_3d489_row4_col1\" class=\"data row4 col1\" >In this work we propose the Transformer, a model architecture eschewing recurrence and instead relying entirely on an attention mechanism to draw global dependencies between input and output.</td>\n",
       "    </tr>\n",
       "    <tr>\n",
       "      <th id=\"T_3d489_level0_row5\" class=\"row_heading level0 row5\" >5</th>\n",
       "      <td id=\"T_3d489_row5_col0\" class=\"data row5 col0\" >0.037</td>\n",
       "      <td id=\"T_3d489_row5_col1\" class=\"data row5 col1\" >Our model achieves 28.4 BLEU on the WMT 2014 English-to-German translation task, improving over the existing best results, including ensembles, by over 2 BLEU.</td>\n",
       "    </tr>\n",
       "    <tr>\n",
       "      <th id=\"T_3d489_level0_row6\" class=\"row_heading level0 row6\" >6</th>\n",
       "      <td id=\"T_3d489_row6_col0\" class=\"data row6 col0\" >0.037</td>\n",
       "      <td id=\"T_3d489_row6_col1\" class=\"data row6 col1\" >The dominant sequence transduction models are based on complex recurrent or convolutional neural networks that include an encoder and a decoder.</td>\n",
       "    </tr>\n",
       "    <tr>\n",
       "      <th id=\"T_3d489_level0_row7\" class=\"row_heading level0 row7\" >7</th>\n",
       "      <td id=\"T_3d489_row7_col0\" class=\"data row7 col0\" >0.010</td>\n",
       "      <td id=\"T_3d489_row7_col1\" class=\"data row7 col1\" >The fundamental constraint of sequential computation, however, remains.</td>\n",
       "    </tr>\n",
       "    <tr>\n",
       "      <th id=\"T_3d489_level0_row8\" class=\"row_heading level0 row8\" >8</th>\n",
       "      <td id=\"T_3d489_row8_col0\" class=\"data row8 col0\" >-0.000</td>\n",
       "      <td id=\"T_3d489_row8_col1\" class=\"data row8 col1\" >We show that the Transformer generalizes well to other tasks by applying it successfully to English constituency parsing both with large and limited training data.</td>\n",
       "    </tr>\n",
       "    <tr>\n",
       "      <th id=\"T_3d489_level0_row9\" class=\"row_heading level0 row9\" >9</th>\n",
       "      <td id=\"T_3d489_row9_col0\" class=\"data row9 col0\" >-0.000</td>\n",
       "      <td id=\"T_3d489_row9_col1\" class=\"data row9 col1\" >Abstract</td>\n",
       "    </tr>\n",
       "    <tr>\n",
       "      <th id=\"T_3d489_level0_row10\" class=\"row_heading level0 row10\" >10</th>\n",
       "      <td id=\"T_3d489_row10_col0\" class=\"data row10 col0\" >-0.000</td>\n",
       "      <td id=\"T_3d489_row10_col1\" class=\"data row10 col1\" >We propose a new simple network architecture, the Transformer, based solely on attention mechanisms, dispensing with recurrence and convolutions entirely.</td>\n",
       "    </tr>\n",
       "    <tr>\n",
       "      <th id=\"T_3d489_level0_row11\" class=\"row_heading level0 row11\" >11</th>\n",
       "      <td id=\"T_3d489_row11_col0\" class=\"data row11 col0\" >0.000</td>\n",
       "      <td id=\"T_3d489_row11_col1\" class=\"data row11 col1\" >Attention Is All You Need</td>\n",
       "    </tr>\n",
       "    <tr>\n",
       "      <th id=\"T_3d489_level0_row12\" class=\"row_heading level0 row12\" >12</th>\n",
       "      <td id=\"T_3d489_row12_col0\" class=\"data row12 col0\" >-0.000</td>\n",
       "      <td id=\"T_3d489_row12_col1\" class=\"data row12 col1\" >Numerous efforts have since continued to push the boundaries of recurrent language models and encoder-decoder architectures [38, 24, 15].</td>\n",
       "    </tr>\n",
       "    <tr>\n",
       "      <th id=\"T_3d489_level0_row13\" class=\"row_heading level0 row13\" >13</th>\n",
       "      <td id=\"T_3d489_row13_col0\" class=\"data row13 col0\" >-0.000</td>\n",
       "      <td id=\"T_3d489_row13_col1\" class=\"data row13 col1\" >Attention mechanisms have become an integral part of compelling sequence modeling and transduction models in various tasks, allowing modeling of dependencies without regard to their distance in the input or output sequences [2, 19].</td>\n",
       "    </tr>\n",
       "    <tr>\n",
       "      <th id=\"T_3d489_level0_row14\" class=\"row_heading level0 row14\" >14</th>\n",
       "      <td id=\"T_3d489_row14_col0\" class=\"data row14 col0\" >-0.000</td>\n",
       "      <td id=\"T_3d489_row14_col1\" class=\"data row14 col1\" >In all but a few cases [27], however, such attention mechanisms are used in conjunction with a recurrent network.</td>\n",
       "    </tr>\n",
       "    <tr>\n",
       "      <th id=\"T_3d489_level0_row15\" class=\"row_heading level0 row15\" >15</th>\n",
       "      <td id=\"T_3d489_row15_col0\" class=\"data row15 col0\" >-0.048</td>\n",
       "      <td id=\"T_3d489_row15_col1\" class=\"data row15 col1\" >Recurrent models typically factor computation along the symbol positions of the input and output sequences.</td>\n",
       "    </tr>\n",
       "    <tr>\n",
       "      <th id=\"T_3d489_level0_row16\" class=\"row_heading level0 row16\" >16</th>\n",
       "      <td id=\"T_3d489_row16_col0\" class=\"data row16 col0\" >-0.078</td>\n",
       "      <td id=\"T_3d489_row16_col1\" class=\"data row16 col1\" >1 Introduction</td>\n",
       "    </tr>\n",
       "    <tr>\n",
       "      <th id=\"T_3d489_level0_row17\" class=\"row_heading level0 row17\" >17</th>\n",
       "      <td id=\"T_3d489_row17_col0\" class=\"data row17 col0\" >-0.143</td>\n",
       "      <td id=\"T_3d489_row17_col1\" class=\"data row17 col1\" >Recent work has achieved significant improvements in computational efficiency through factorization tricks [21] and conditional computation [32], while also improving model performance in case of the latter.</td>\n",
       "    </tr>\n",
       "    <tr>\n",
       "      <th id=\"T_3d489_level0_row18\" class=\"row_heading level0 row18\" >18</th>\n",
       "      <td id=\"T_3d489_row18_col0\" class=\"data row18 col0\" >-0.294</td>\n",
       "      <td id=\"T_3d489_row18_col1\" class=\"data row18 col1\" >Recurrent neural networks, long short-term memory [13] and gated recurrent [7] neural networks in particular, have been firmly established as state of the art approaches in sequence modeling and transduction problems such as language modeling and machine translation [35, 2, 5].</td>\n",
       "    </tr>\n",
       "    <tr>\n",
       "      <th id=\"T_3d489_level0_row19\" class=\"row_heading level0 row19\" >19</th>\n",
       "      <td id=\"T_3d489_row19_col0\" class=\"data row19 col0\" >-0.501</td>\n",
       "      <td id=\"T_3d489_row19_col1\" class=\"data row19 col1\" >The best performing models also connect the encoder and decoder through an attention mechanism.</td>\n",
       "    </tr>\n",
       "  </tbody>\n",
       "</table>\n"
      ],
      "text/plain": [
       "<pandas.io.formats.style.Styler at 0x7f53bc18cdf0>"
      ]
     },
     "execution_count": 164,
     "metadata": {},
     "output_type": "execute_result"
    }
   ],
   "source": [
    "s, e = 16, 32\n",
    "print(f\"Response to attribute: \\\"{cc.response[s:e]}\\\"\")\n",
    "cc.show_attributions(s, e)"
   ]
  },
  {
   "cell_type": "code",
   "execution_count": 165,
   "id": "dbf8ed92",
   "metadata": {},
   "outputs": [
    {
     "name": "stdout",
     "output_type": "stream",
     "text": [
      "Response to attribute: \" the WMT 2014 English-to-German translation task\"\n"
     ]
    },
    {
     "data": {
      "text/html": [
       "<style type=\"text/css\">\n",
       "#T_9a75e_row0_col0 {\n",
       "  background-color: rgb(80, 180, 80);\n",
       "}\n",
       "#T_9a75e_row1_col0 {\n",
       "  background-color: rgb(248.22643479626623, 252.0970434841141, 248.22643479626623);\n",
       "}\n",
       "#T_9a75e_row2_col0 {\n",
       "  background-color: rgb(250.22101786826306, 252.95186480068418, 250.22101786826306);\n",
       "}\n",
       "#T_9a75e_row3_col0 {\n",
       "  background-color: rgb(253.62568775474898, 254.41100903774955, 253.62568775474898);\n",
       "}\n",
       "#T_9a75e_row4_col0, #T_9a75e_row5_col0, #T_9a75e_row6_col0, #T_9a75e_row7_col0, #T_9a75e_row8_col0, #T_9a75e_row9_col0, #T_9a75e_row10_col0, #T_9a75e_row11_col0, #T_9a75e_row12_col0, #T_9a75e_row13_col0, #T_9a75e_row14_col0, #T_9a75e_row15_col0, #T_9a75e_row16_col0, #T_9a75e_row17_col0, #T_9a75e_row18_col0 {\n",
       "  background-color: rgb(255, 255, 255);\n",
       "}\n",
       "#T_9a75e_row19_col0 {\n",
       "  background-color: rgb(255.5171036281235, 255.22161584062437, 255.5171036281235);\n",
       "}\n",
       "</style>\n",
       "<table id=\"T_9a75e\">\n",
       "  <thead>\n",
       "    <tr>\n",
       "      <th class=\"blank level0\" >&nbsp;</th>\n",
       "      <th id=\"T_9a75e_level0_col0\" class=\"col_heading level0 col0\" >Score</th>\n",
       "      <th id=\"T_9a75e_level0_col1\" class=\"col_heading level0 col1\" >Source</th>\n",
       "    </tr>\n",
       "  </thead>\n",
       "  <tbody>\n",
       "    <tr>\n",
       "      <th id=\"T_9a75e_level0_row0\" class=\"row_heading level0 row0\" >0</th>\n",
       "      <td id=\"T_9a75e_row0_col0\" class=\"data row0 col0\" >11.939</td>\n",
       "      <td id=\"T_9a75e_row0_col1\" class=\"data row0 col1\" >Our model achieves 28.4 BLEU on the WMT 2014 English-to-German translation task, improving over the existing best results, including ensembles, by over 2 BLEU.</td>\n",
       "    </tr>\n",
       "    <tr>\n",
       "      <th id=\"T_9a75e_level0_row1\" class=\"row_heading level0 row1\" >1</th>\n",
       "      <td id=\"T_9a75e_row1_col0\" class=\"data row1 col0\" >0.462</td>\n",
       "      <td id=\"T_9a75e_row1_col1\" class=\"data row1 col1\" >On the WMT 2014 English-to-French translation task, our model establishes a new single-model state-of-the-art BLEU score of 41.8 after training for 3.5 days on eight GPUs, a small fraction of the training costs of the best models from the literature.</td>\n",
       "    </tr>\n",
       "    <tr>\n",
       "      <th id=\"T_9a75e_level0_row2\" class=\"row_heading level0 row2\" >2</th>\n",
       "      <td id=\"T_9a75e_row2_col0\" class=\"data row2 col0\" >0.326</td>\n",
       "      <td id=\"T_9a75e_row2_col1\" class=\"data row2 col1\" >The dominant sequence transduction models are based on complex recurrent or convolutional neural networks that include an encoder and a decoder.</td>\n",
       "    </tr>\n",
       "    <tr>\n",
       "      <th id=\"T_9a75e_level0_row3\" class=\"row_heading level0 row3\" >3</th>\n",
       "      <td id=\"T_9a75e_row3_col0\" class=\"data row3 col0\" >0.094</td>\n",
       "      <td id=\"T_9a75e_row3_col1\" class=\"data row3 col1\" >Recurrent models typically factor computation along the symbol positions of the input and output sequences.</td>\n",
       "    </tr>\n",
       "    <tr>\n",
       "      <th id=\"T_9a75e_level0_row4\" class=\"row_heading level0 row4\" >4</th>\n",
       "      <td id=\"T_9a75e_row4_col0\" class=\"data row4 col0\" >0.000</td>\n",
       "      <td id=\"T_9a75e_row4_col1\" class=\"data row4 col1\" >The Transformer allows for significantly more parallelization and can reach a new state of the art in translation quality after being trained for as little as twelve hours on eight P100 GPUs.</td>\n",
       "    </tr>\n",
       "    <tr>\n",
       "      <th id=\"T_9a75e_level0_row5\" class=\"row_heading level0 row5\" >5</th>\n",
       "      <td id=\"T_9a75e_row5_col0\" class=\"data row5 col0\" >-0.000</td>\n",
       "      <td id=\"T_9a75e_row5_col1\" class=\"data row5 col1\" >In this work we propose the Transformer, a model architecture eschewing recurrence and instead relying entirely on an attention mechanism to draw global dependencies between input and output.</td>\n",
       "    </tr>\n",
       "    <tr>\n",
       "      <th id=\"T_9a75e_level0_row6\" class=\"row_heading level0 row6\" >6</th>\n",
       "      <td id=\"T_9a75e_row6_col0\" class=\"data row6 col0\" >-0.000</td>\n",
       "      <td id=\"T_9a75e_row6_col1\" class=\"data row6 col1\" >Abstract</td>\n",
       "    </tr>\n",
       "    <tr>\n",
       "      <th id=\"T_9a75e_level0_row7\" class=\"row_heading level0 row7\" >7</th>\n",
       "      <td id=\"T_9a75e_row7_col0\" class=\"data row7 col0\" >0.000</td>\n",
       "      <td id=\"T_9a75e_row7_col1\" class=\"data row7 col1\" >The best performing models also connect the encoder and decoder through an attention mechanism.</td>\n",
       "    </tr>\n",
       "    <tr>\n",
       "      <th id=\"T_9a75e_level0_row8\" class=\"row_heading level0 row8\" >8</th>\n",
       "      <td id=\"T_9a75e_row8_col0\" class=\"data row8 col0\" >-0.000</td>\n",
       "      <td id=\"T_9a75e_row8_col1\" class=\"data row8 col1\" >We propose a new simple network architecture, the Transformer, based solely on attention mechanisms, dispensing with recurrence and convolutions entirely.</td>\n",
       "    </tr>\n",
       "    <tr>\n",
       "      <th id=\"T_9a75e_level0_row9\" class=\"row_heading level0 row9\" >9</th>\n",
       "      <td id=\"T_9a75e_row9_col0\" class=\"data row9 col0\" >-0.000</td>\n",
       "      <td id=\"T_9a75e_row9_col1\" class=\"data row9 col1\" >We show that the Transformer generalizes well to other tasks by applying it successfully to English constituency parsing both with large and limited training data.</td>\n",
       "    </tr>\n",
       "    <tr>\n",
       "      <th id=\"T_9a75e_level0_row10\" class=\"row_heading level0 row10\" >10</th>\n",
       "      <td id=\"T_9a75e_row10_col0\" class=\"data row10 col0\" >0.000</td>\n",
       "      <td id=\"T_9a75e_row10_col1\" class=\"data row10 col1\" >1 Introduction</td>\n",
       "    </tr>\n",
       "    <tr>\n",
       "      <th id=\"T_9a75e_level0_row11\" class=\"row_heading level0 row11\" >11</th>\n",
       "      <td id=\"T_9a75e_row11_col0\" class=\"data row11 col0\" >-0.000</td>\n",
       "      <td id=\"T_9a75e_row11_col1\" class=\"data row11 col1\" >Recurrent neural networks, long short-term memory [13] and gated recurrent [7] neural networks in particular, have been firmly established as state of the art approaches in sequence modeling and transduction problems such as language modeling and machine translation [35, 2, 5].</td>\n",
       "    </tr>\n",
       "    <tr>\n",
       "      <th id=\"T_9a75e_level0_row12\" class=\"row_heading level0 row12\" >12</th>\n",
       "      <td id=\"T_9a75e_row12_col0\" class=\"data row12 col0\" >-0.000</td>\n",
       "      <td id=\"T_9a75e_row12_col1\" class=\"data row12 col1\" >Numerous efforts have since continued to push the boundaries of recurrent language models and encoder-decoder architectures [38, 24, 15].</td>\n",
       "    </tr>\n",
       "    <tr>\n",
       "      <th id=\"T_9a75e_level0_row13\" class=\"row_heading level0 row13\" >13</th>\n",
       "      <td id=\"T_9a75e_row13_col0\" class=\"data row13 col0\" >0.000</td>\n",
       "      <td id=\"T_9a75e_row13_col1\" class=\"data row13 col1\" >Aligning the positions to steps in computation time, they generate a sequence of hidden states ht, as a function of the previous hidden state ht-1 and the input for position t. This inherently sequential nature precludes parallelization within training examples, which becomes critical at longer sequence lengths, as memory constraints limit batching across examples.</td>\n",
       "    </tr>\n",
       "    <tr>\n",
       "      <th id=\"T_9a75e_level0_row14\" class=\"row_heading level0 row14\" >14</th>\n",
       "      <td id=\"T_9a75e_row14_col0\" class=\"data row14 col0\" >-0.000</td>\n",
       "      <td id=\"T_9a75e_row14_col1\" class=\"data row14 col1\" >Recent work has achieved significant improvements in computational efficiency through factorization tricks [21] and conditional computation [32], while also improving model performance in case of the latter.</td>\n",
       "    </tr>\n",
       "    <tr>\n",
       "      <th id=\"T_9a75e_level0_row15\" class=\"row_heading level0 row15\" >15</th>\n",
       "      <td id=\"T_9a75e_row15_col0\" class=\"data row15 col0\" >-0.000</td>\n",
       "      <td id=\"T_9a75e_row15_col1\" class=\"data row15 col1\" >The fundamental constraint of sequential computation, however, remains.</td>\n",
       "    </tr>\n",
       "    <tr>\n",
       "      <th id=\"T_9a75e_level0_row16\" class=\"row_heading level0 row16\" >16</th>\n",
       "      <td id=\"T_9a75e_row16_col0\" class=\"data row16 col0\" >0.000</td>\n",
       "      <td id=\"T_9a75e_row16_col1\" class=\"data row16 col1\" >Attention mechanisms have become an integral part of compelling sequence modeling and transduction models in various tasks, allowing modeling of dependencies without regard to their distance in the input or output sequences [2, 19].</td>\n",
       "    </tr>\n",
       "    <tr>\n",
       "      <th id=\"T_9a75e_level0_row17\" class=\"row_heading level0 row17\" >17</th>\n",
       "      <td id=\"T_9a75e_row17_col0\" class=\"data row17 col0\" >0.000</td>\n",
       "      <td id=\"T_9a75e_row17_col1\" class=\"data row17 col1\" >In all but a few cases [27], however, such attention mechanisms are used in conjunction with a recurrent network.</td>\n",
       "    </tr>\n",
       "    <tr>\n",
       "      <th id=\"T_9a75e_level0_row18\" class=\"row_heading level0 row18\" >18</th>\n",
       "      <td id=\"T_9a75e_row18_col0\" class=\"data row18 col0\" >-0.000</td>\n",
       "      <td id=\"T_9a75e_row18_col1\" class=\"data row18 col1\" >Attention Is All You Need</td>\n",
       "    </tr>\n",
       "    <tr>\n",
       "      <th id=\"T_9a75e_level0_row19\" class=\"row_heading level0 row19\" >19</th>\n",
       "      <td id=\"T_9a75e_row19_col0\" class=\"data row19 col0\" >-0.035</td>\n",
       "      <td id=\"T_9a75e_row19_col1\" class=\"data row19 col1\" >Experiments on two machine translation tasks show these models to be superior in quality while being more parallelizable and requiring significantly less time to train.</td>\n",
       "    </tr>\n",
       "  </tbody>\n",
       "</table>\n"
      ],
      "text/plain": [
       "<pandas.io.formats.style.Styler at 0x7f53bc18f610>"
      ]
     },
     "execution_count": 165,
     "metadata": {},
     "output_type": "execute_result"
    }
   ],
   "source": [
    "s, e = 82, 130\n",
    "print(f\"Response to attribute: \\\"{cc.response[s:e]}\\\"\")\n",
    "cc.show_attributions(s, e)"
   ]
  }
 ],
 "metadata": {
  "kernelspec": {
   "display_name": "Python 3 (ipykernel)",
   "language": "python",
   "name": "python3"
  },
  "language_info": {
   "codemirror_mode": {
    "name": "ipython",
    "version": 3
   },
   "file_extension": ".py",
   "mimetype": "text/x-python",
   "name": "python",
   "nbconvert_exporter": "python",
   "pygments_lexer": "ipython3",
   "version": "3.10.14"
  }
 },
 "nbformat": 4,
 "nbformat_minor": 5
}
