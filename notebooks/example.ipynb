{
 "cells": [
  {
   "cell_type": "code",
   "execution_count": 1,
   "id": "6fad41b3-3bcc-45cd-a1d3-2b382071360d",
   "metadata": {},
   "outputs": [
    {
     "name": "stdout",
     "output_type": "stream",
     "text": [
      "/mnt/xfs/home/bencw/src/context-cite\n"
     ]
    },
    {
     "name": "stderr",
     "output_type": "stream",
     "text": [
      "/mnt/xfs/home/bencw/conda_envs/cite/lib/python3.10/site-packages/IPython/core/magics/osm.py:417: UserWarning: This is now an optional IPython functionality, setting dhist requires you to install the `pickleshare` library.\n",
      "  self.shell.db['dhist'] = compress_dhist(dhist)[-100:]\n"
     ]
    }
   ],
   "source": [
    "%load_ext autoreload\n",
    "%autoreload 2\n",
    "%cd .."
   ]
  },
  {
   "cell_type": "code",
   "execution_count": 2,
   "id": "4a1f3de3-e431-42db-9d1e-53a57ca3738a",
   "metadata": {},
   "outputs": [],
   "source": [
    "import numpy as np\n",
    "import torch as ch\n",
    "from transformers import AutoTokenizer, AutoModelForCausalLM"
   ]
  },
  {
   "cell_type": "code",
   "execution_count": 3,
   "id": "388907a9-2a4c-42df-94af-61f40c057692",
   "metadata": {},
   "outputs": [
    {
     "name": "stderr",
     "output_type": "stream",
     "text": [
      "[nltk_data] Downloading package punkt to\n",
      "[nltk_data]     /mnt/xfs/home/bencw/nltk_data...\n",
      "[nltk_data]   Package punkt is already up-to-date!\n"
     ]
    }
   ],
   "source": [
    "from context_cite import ContextCiter"
   ]
  },
  {
   "cell_type": "code",
   "execution_count": 4,
   "id": "779c306e-5a15-4827-919d-09bee075965a",
   "metadata": {},
   "outputs": [
    {
     "data": {
      "application/vnd.jupyter.widget-view+json": {
       "model_id": "b6b55b6d7f394b949b23692eec92c669",
       "version_major": 2,
       "version_minor": 0
      },
      "text/plain": [
       "Loading checkpoint shards:   0%|          | 0/3 [00:00<?, ?it/s]"
      ]
     },
     "metadata": {},
     "output_type": "display_data"
    }
   ],
   "source": [
    "model_name_or_path = \"mistralai/Mistral-7B-Instruct-v0.2\"\n",
    "model = AutoModelForCausalLM.from_pretrained(model_name_or_path, torch_dtype=ch.float16).to(\"cuda\")\n",
    "tokenizer = AutoTokenizer.from_pretrained(model_name_or_path)\n",
    "if tokenizer.pad_token is None:\n",
    "    tokenizer.pad_token = tokenizer.eos_token"
   ]
  },
  {
   "cell_type": "code",
   "execution_count": 5,
   "id": "e3665785-786e-4d6f-a85d-afecff1eca5e",
   "metadata": {},
   "outputs": [],
   "source": [
    "context = \"On April 8, 2024, a total solar eclipse will be visible in the continental United States. Glimpse the full glory of the Sun's outer atmosphere, or corona, visible only when the Sun's disc is completely covered by the moon. To witness this incredible total solar eclipse, you will need to be within the 115-mile-wide path of totality. The path arches from Mexico to Texas to Maine. Unless you're on that line—the path of totality—you'll only see a partial eclipse. The difference between a total solar eclipse and a partial one is literally the difference between night and day, so get yourself into the path of totality if you can! The closer you are to the center of that path, the longer totality, the maximum point of the eclipse, will last. The whole event will take about two and a half hours, but totality will only last about four minutes. Most towns in the US aren't on the path. If you stay home, you'll likely only see a partial eclipse. Make your travel plans early as hotels and campsites usually book up months in advance! The shadow of the moon goes through several time zones. Check the local time to ensure you don't miss the total phase of the solar eclipse, which only lasts about four minutes. To determine the precise start time, end time, and duration of totality for your exact location on eclipse day, use this interactive eclipse map developed by timeanddate.com. Find a sunny location along the path, or the clouds will hide the Sun before the moon does. According to predictions, your best bets for clear skies are in central Mexico and south-central Texas. You will need eclipse glasses to safely view the Sun. We also highly recommend that you gather up colanders, slotted spoons, or anything else with small holes (you can poke holes in a piece of cardboard), because the eclipse will make very cool shadows. Check out our safe-viewing page for tips on building other kinds of viewers.\"\n",
    "query = \"I live in Boston. Where and when should I go to see the eclipse? Please answer briefly.\""
   ]
  },
  {
   "cell_type": "code",
   "execution_count": 6,
   "id": "82ef195d-32b9-4df4-90ce-895e36c98ef7",
   "metadata": {},
   "outputs": [],
   "source": [
    "cc = ContextCiter(model, tokenizer, context, query)"
   ]
  },
  {
   "cell_type": "code",
   "execution_count": 7,
   "id": "a1dda579-6c31-4fa6-91b9-b2453dbd460e",
   "metadata": {},
   "outputs": [
    {
     "name": "stderr",
     "output_type": "stream",
     "text": [
      "The attention mask and the pad token id were not set. As a consequence, you may observe unexpected behavior. Please pass your input's `attention_mask` to obtain reliable results.\n",
      "Setting `pad_token_id` to `eos_token_id`:2 for open-end generation.\n"
     ]
    },
    {
     "data": {
      "text/plain": [
       "\" To see the total solar eclipse in Boston on April 8, 2024, you will need to travel to the path of totality, which passes through Maine. The closest town in Maine with totality is Madawaska, near the Canadian border. The eclipse will begin around 2:38 PM EDT and last approximately 4 minutes. Make travel plans early, as accommodations may book up months in advance. Remember to bring eclipse glasses for safe viewing and materials for observing the eclipse's unique shadows.\""
      ]
     },
     "execution_count": 7,
     "metadata": {},
     "output_type": "execute_result"
    }
   ],
   "source": [
    "cc.response"
   ]
  },
  {
   "cell_type": "code",
   "execution_count": 8,
   "id": "11ebb0e6-2bad-436b-a085-7091d4458ae6",
   "metadata": {},
   "outputs": [
    {
     "data": {
      "text/html": [
       "<div>\n",
       "<style scoped>\n",
       "    .dataframe tbody tr th:only-of-type {\n",
       "        vertical-align: middle;\n",
       "    }\n",
       "\n",
       "    .dataframe tbody tr th {\n",
       "        vertical-align: top;\n",
       "    }\n",
       "\n",
       "    .dataframe thead th {\n",
       "        text-align: right;\n",
       "    }\n",
       "</style>\n",
       "<table border=\"1\" class=\"dataframe\">\n",
       "  <thead>\n",
       "    <tr style=\"text-align: right;\">\n",
       "      <th></th>\n",
       "      <th>start_index</th>\n",
       "      <th>end_index</th>\n",
       "      <th>sentence</th>\n",
       "    </tr>\n",
       "  </thead>\n",
       "  <tbody>\n",
       "    <tr>\n",
       "      <th>0</th>\n",
       "      <td>0</td>\n",
       "      <td>136</td>\n",
       "      <td>To see the total solar eclipse in Boston on A...</td>\n",
       "    </tr>\n",
       "    <tr>\n",
       "      <th>1</th>\n",
       "      <td>137</td>\n",
       "      <td>216</td>\n",
       "      <td>The closest town in Maine with totality is Mad...</td>\n",
       "    </tr>\n",
       "    <tr>\n",
       "      <th>2</th>\n",
       "      <td>217</td>\n",
       "      <td>292</td>\n",
       "      <td>The eclipse will begin around 2:38 PM EDT and ...</td>\n",
       "    </tr>\n",
       "    <tr>\n",
       "      <th>3</th>\n",
       "      <td>293</td>\n",
       "      <td>366</td>\n",
       "      <td>Make travel plans early, as accommodations may...</td>\n",
       "    </tr>\n",
       "    <tr>\n",
       "      <th>4</th>\n",
       "      <td>367</td>\n",
       "      <td>475</td>\n",
       "      <td>Remember to bring eclipse glasses for safe vie...</td>\n",
       "    </tr>\n",
       "  </tbody>\n",
       "</table>\n",
       "</div>"
      ],
      "text/plain": [
       "   start_index  end_index                                           sentence\n",
       "0            0        136   To see the total solar eclipse in Boston on A...\n",
       "1          137        216  The closest town in Maine with totality is Mad...\n",
       "2          217        292  The eclipse will begin around 2:38 PM EDT and ...\n",
       "3          293        366  Make travel plans early, as accommodations may...\n",
       "4          367        475  Remember to bring eclipse glasses for safe vie..."
      ]
     },
     "execution_count": 8,
     "metadata": {},
     "output_type": "execute_result"
    }
   ],
   "source": [
    "cc.response_metadata"
   ]
  },
  {
   "cell_type": "code",
   "execution_count": 9,
   "id": "6705a269-f613-4988-9c05-a6d8b065408c",
   "metadata": {},
   "outputs": [
    {
     "data": {
      "application/vnd.jupyter.widget-view+json": {
       "model_id": "230c3a25efa64fe89b92230a83276bcd",
       "version_major": 2,
       "version_minor": 0
      },
      "text/plain": [
       "  0%|          | 0/256 [00:00<?, ?it/s]"
      ]
     },
     "metadata": {},
     "output_type": "display_data"
    },
    {
     "data": {
      "text/plain": [
       "array([16.48157988,  0.65075504,  3.66754446,  8.49358765,  0.323622  ,\n",
       "       -0.        ,  1.24949428, -0.18974822,  1.29665971,  0.17359111,\n",
       "        0.10932293,  0.40512605,  0.25062863,  1.55528302,  1.10721519,\n",
       "       -7.19719984, -0.        ,  0.247937  , -0.        ])"
      ]
     },
     "execution_count": 9,
     "metadata": {},
     "output_type": "execute_result"
    }
   ],
   "source": [
    "cc.get_scores(0, 136)"
   ]
  },
  {
   "cell_type": "code",
   "execution_count": 10,
   "id": "d16c77fd-a9d3-4fcb-a911-ac56d33a8b59",
   "metadata": {},
   "outputs": [
    {
     "data": {
      "text/html": [
       "<style type=\"text/css\">\n",
       "#T_ca1b9_row0_col0 {\n",
       "  background-color: rgb(80, 180, 80);\n",
       "}\n",
       "#T_ca1b9_row1_col0 {\n",
       "  background-color: rgb(164.81581565678937, 216.34963528148117, 164.81581565678937);\n",
       "}\n",
       "#T_ca1b9_row2_col0 {\n",
       "  background-color: rgb(216.0583278394966, 238.31071193121284, 216.0583278394966);\n",
       "}\n",
       "#T_ca1b9_row3_col0 {\n",
       "  background-color: rgb(238.4861384397137, 247.9226307598773, 238.4861384397137);\n",
       "}\n",
       "#T_ca1b9_row4_col0 {\n",
       "  background-color: rgb(241.2321785867138, 249.09950510859161, 241.2321785867138);\n",
       "}\n",
       "#T_ca1b9_row5_col0 {\n",
       "  background-color: rgb(241.73297702641125, 249.31413301131911, 241.73297702641125);\n",
       "}\n",
       "#T_ca1b9_row6_col0 {\n",
       "  background-color: rgb(243.24368422015942, 249.9615789514969, 243.24368422015942);\n",
       "}\n",
       "#T_ca1b9_row7_col0 {\n",
       "  background-color: rgb(248.09033883471992, 252.03871664345138, 248.09033883471992);\n",
       "}\n",
       "#T_ca1b9_row8_col0 {\n",
       "  background-color: rgb(250.69840639351787, 253.15645988293625, 250.69840639351787);\n",
       "}\n",
       "#T_ca1b9_row9_col0 {\n",
       "  background-color: rgb(251.56380934796084, 253.5273468634118, 251.56380934796084);\n",
       "}\n",
       "#T_ca1b9_row10_col0 {\n",
       "  background-color: rgb(252.33884672264992, 253.85950573827853, 252.33884672264992);\n",
       "}\n",
       "#T_ca1b9_row11_col0 {\n",
       "  background-color: rgb(252.36742617944057, 253.8717540769031, 252.36742617944057);\n",
       "}\n",
       "#T_ca1b9_row12_col0 {\n",
       "  background-color: rgb(253.1568244757262, 254.2100676324541, 253.1568244757262);\n",
       "}\n",
       "#T_ca1b9_row13_col0 {\n",
       "  background-color: rgb(253.8392185153893, 254.50252222088113, 253.8392185153893);\n",
       "}\n",
       "#T_ca1b9_row14_col0, #T_ca1b9_row15_col0, #T_ca1b9_row16_col0 {\n",
       "  background-color: rgb(255, 255, 255);\n",
       "}\n",
       "</style>\n",
       "<table id=\"T_ca1b9\">\n",
       "  <thead>\n",
       "    <tr>\n",
       "      <th class=\"blank level0\" >&nbsp;</th>\n",
       "      <th id=\"T_ca1b9_level0_col0\" class=\"col_heading level0 col0\" >Score</th>\n",
       "      <th id=\"T_ca1b9_level0_col1\" class=\"col_heading level0 col1\" >Source</th>\n",
       "    </tr>\n",
       "  </thead>\n",
       "  <tbody>\n",
       "    <tr>\n",
       "      <th id=\"T_ca1b9_level0_row0\" class=\"row_heading level0 row0\" >0</th>\n",
       "      <td id=\"T_ca1b9_row0_col0\" class=\"data row0 col0\" >16.482</td>\n",
       "      <td id=\"T_ca1b9_row0_col1\" class=\"data row0 col1\" >On April 8, 2024, a total solar eclipse will be visible in the continental United States.</td>\n",
       "    </tr>\n",
       "    <tr>\n",
       "      <th id=\"T_ca1b9_level0_row1\" class=\"row_heading level0 row1\" >1</th>\n",
       "      <td id=\"T_ca1b9_row1_col0\" class=\"data row1 col0\" >8.494</td>\n",
       "      <td id=\"T_ca1b9_row1_col1\" class=\"data row1 col1\" >The path arches from Mexico to Texas to Maine.</td>\n",
       "    </tr>\n",
       "    <tr>\n",
       "      <th id=\"T_ca1b9_level0_row2\" class=\"row_heading level0 row2\" >2</th>\n",
       "      <td id=\"T_ca1b9_row2_col0\" class=\"data row2 col0\" >3.668</td>\n",
       "      <td id=\"T_ca1b9_row2_col1\" class=\"data row2 col1\" >To witness this incredible total solar eclipse, you will need to be within the 115-mile-wide path of totality.</td>\n",
       "    </tr>\n",
       "    <tr>\n",
       "      <th id=\"T_ca1b9_level0_row3\" class=\"row_heading level0 row3\" >3</th>\n",
       "      <td id=\"T_ca1b9_row3_col0\" class=\"data row3 col0\" >1.555</td>\n",
       "      <td id=\"T_ca1b9_row3_col1\" class=\"data row3 col1\" >To determine the precise start time, end time, and duration of totality for your exact location on eclipse day, use this interactive eclipse map developed by timeanddate.com.</td>\n",
       "    </tr>\n",
       "    <tr>\n",
       "      <th id=\"T_ca1b9_level0_row4\" class=\"row_heading level0 row4\" >4</th>\n",
       "      <td id=\"T_ca1b9_row4_col0\" class=\"data row4 col0\" >1.297</td>\n",
       "      <td id=\"T_ca1b9_row4_col1\" class=\"data row4 col1\" >Most towns in the US aren't on the path.</td>\n",
       "    </tr>\n",
       "    <tr>\n",
       "      <th id=\"T_ca1b9_level0_row5\" class=\"row_heading level0 row5\" >5</th>\n",
       "      <td id=\"T_ca1b9_row5_col0\" class=\"data row5 col0\" >1.249</td>\n",
       "      <td id=\"T_ca1b9_row5_col1\" class=\"data row5 col1\" >The closer you are to the center of that path, the longer totality, the maximum point of the eclipse, will last.</td>\n",
       "    </tr>\n",
       "    <tr>\n",
       "      <th id=\"T_ca1b9_level0_row6\" class=\"row_heading level0 row6\" >6</th>\n",
       "      <td id=\"T_ca1b9_row6_col0\" class=\"data row6 col0\" >1.107</td>\n",
       "      <td id=\"T_ca1b9_row6_col1\" class=\"data row6 col1\" >Find a sunny location along the path, or the clouds will hide the Sun before the moon does.</td>\n",
       "    </tr>\n",
       "    <tr>\n",
       "      <th id=\"T_ca1b9_level0_row7\" class=\"row_heading level0 row7\" >7</th>\n",
       "      <td id=\"T_ca1b9_row7_col0\" class=\"data row7 col0\" >0.651</td>\n",
       "      <td id=\"T_ca1b9_row7_col1\" class=\"data row7 col1\" >Glimpse the full glory of the Sun's outer atmosphere, or corona, visible only when the Sun's disc is completely covered by the moon.</td>\n",
       "    </tr>\n",
       "    <tr>\n",
       "      <th id=\"T_ca1b9_level0_row8\" class=\"row_heading level0 row8\" >8</th>\n",
       "      <td id=\"T_ca1b9_row8_col0\" class=\"data row8 col0\" >0.405</td>\n",
       "      <td id=\"T_ca1b9_row8_col1\" class=\"data row8 col1\" >The shadow of the moon goes through several time zones.</td>\n",
       "    </tr>\n",
       "    <tr>\n",
       "      <th id=\"T_ca1b9_level0_row9\" class=\"row_heading level0 row9\" >9</th>\n",
       "      <td id=\"T_ca1b9_row9_col0\" class=\"data row9 col0\" >0.324</td>\n",
       "      <td id=\"T_ca1b9_row9_col1\" class=\"data row9 col1\" >Unless you're on that line—the path of totality—you'll only see a partial eclipse.</td>\n",
       "    </tr>\n",
       "    <tr>\n",
       "      <th id=\"T_ca1b9_level0_row10\" class=\"row_heading level0 row10\" >10</th>\n",
       "      <td id=\"T_ca1b9_row10_col0\" class=\"data row10 col0\" >0.251</td>\n",
       "      <td id=\"T_ca1b9_row10_col1\" class=\"data row10 col1\" >Check the local time to ensure you don't miss the total phase of the solar eclipse, which only lasts about four minutes.</td>\n",
       "    </tr>\n",
       "    <tr>\n",
       "      <th id=\"T_ca1b9_level0_row11\" class=\"row_heading level0 row11\" >11</th>\n",
       "      <td id=\"T_ca1b9_row11_col0\" class=\"data row11 col0\" >0.248</td>\n",
       "      <td id=\"T_ca1b9_row11_col1\" class=\"data row11 col1\" >We also highly recommend that you gather up colanders, slotted spoons, or anything else with small holes (you can poke holes in a piece of cardboard), because the eclipse will make very cool shadows.</td>\n",
       "    </tr>\n",
       "    <tr>\n",
       "      <th id=\"T_ca1b9_level0_row12\" class=\"row_heading level0 row12\" >12</th>\n",
       "      <td id=\"T_ca1b9_row12_col0\" class=\"data row12 col0\" >0.174</td>\n",
       "      <td id=\"T_ca1b9_row12_col1\" class=\"data row12 col1\" >If you stay home, you'll likely only see a partial eclipse.</td>\n",
       "    </tr>\n",
       "    <tr>\n",
       "      <th id=\"T_ca1b9_level0_row13\" class=\"row_heading level0 row13\" >13</th>\n",
       "      <td id=\"T_ca1b9_row13_col0\" class=\"data row13 col0\" >0.109</td>\n",
       "      <td id=\"T_ca1b9_row13_col1\" class=\"data row13 col1\" >Make your travel plans early as hotels and campsites usually book up months in advance!</td>\n",
       "    </tr>\n",
       "    <tr>\n",
       "      <th id=\"T_ca1b9_level0_row14\" class=\"row_heading level0 row14\" >14</th>\n",
       "      <td id=\"T_ca1b9_row14_col0\" class=\"data row14 col0\" >-0.000</td>\n",
       "      <td id=\"T_ca1b9_row14_col1\" class=\"data row14 col1\" >The difference between a total solar eclipse and a partial one is literally the difference between night and day, so get yourself into the path of totality if you can!</td>\n",
       "    </tr>\n",
       "    <tr>\n",
       "      <th id=\"T_ca1b9_level0_row15\" class=\"row_heading level0 row15\" >15</th>\n",
       "      <td id=\"T_ca1b9_row15_col0\" class=\"data row15 col0\" >-0.000</td>\n",
       "      <td id=\"T_ca1b9_row15_col1\" class=\"data row15 col1\" >You will need eclipse glasses to safely view the Sun.</td>\n",
       "    </tr>\n",
       "    <tr>\n",
       "      <th id=\"T_ca1b9_level0_row16\" class=\"row_heading level0 row16\" >16</th>\n",
       "      <td id=\"T_ca1b9_row16_col0\" class=\"data row16 col0\" >-0.000</td>\n",
       "      <td id=\"T_ca1b9_row16_col1\" class=\"data row16 col1\" >Check out our safe-viewing page for tips on building other kinds of viewers.</td>\n",
       "    </tr>\n",
       "  </tbody>\n",
       "</table>\n"
      ],
      "text/plain": [
       "<pandas.io.formats.style.Styler at 0x7f487ff07220>"
      ]
     },
     "execution_count": 10,
     "metadata": {},
     "output_type": "execute_result"
    }
   ],
   "source": [
    "cc.show_attributions(0, 136)"
   ]
  }
 ],
 "metadata": {
  "kernelspec": {
   "display_name": "Python 3 (ipykernel)",
   "language": "python",
   "name": "python3"
  },
  "language_info": {
   "codemirror_mode": {
    "name": "ipython",
    "version": 3
   },
   "file_extension": ".py",
   "mimetype": "text/x-python",
   "name": "python",
   "nbconvert_exporter": "python",
   "pygments_lexer": "ipython3",
   "version": "3.10.14"
  }
 },
 "nbformat": 4,
 "nbformat_minor": 5
}
